{
 "cells": [
  {
   "cell_type": "markdown",
   "metadata": {
    "collapsed": true
   },
   "source": [
    "# Image Classification\n",
    "In this project, you'll classify images from the [CIFAR-10 dataset](https://www.cs.toronto.edu/~kriz/cifar.html).  The dataset consists of airplanes, dogs, cats, and other objects. You'll preprocess the images, then train a convolutional neural network on all the samples. The images need to be normalized and the labels need to be one-hot encoded.  You'll get to apply what you learned and build a convolutional, max pooling, dropout, and fully connected layers.  At the end, you'll get to see your neural network's predictions on the sample images.\n",
    "## Get the Data\n",
    "Run the following cell to download the [CIFAR-10 dataset for python](https://www.cs.toronto.edu/~kriz/cifar-10-python.tar.gz)."
   ]
  },
  {
   "cell_type": "code",
   "execution_count": 1,
   "metadata": {
    "collapsed": false
   },
   "outputs": [
    {
     "name": "stderr",
     "output_type": "stream",
     "text": [
      "CIFAR-10 Dataset: 171MB [01:52, 1.52MB/s]                              \n"
     ]
    },
    {
     "name": "stdout",
     "output_type": "stream",
     "text": [
      "All files found!\n"
     ]
    }
   ],
   "source": [
    "\"\"\"\n",
    "DON'T MODIFY ANYTHING IN THIS CELL THAT IS BELOW THIS LINE\n",
    "\"\"\"\n",
    "from urllib.request import urlretrieve\n",
    "from os.path import isfile, isdir\n",
    "from tqdm import tqdm\n",
    "import problem_unittests as tests\n",
    "import tarfile\n",
    "\n",
    "cifar10_dataset_folder_path = 'cifar-10-batches-py'\n",
    "\n",
    "# Use Floyd's cifar-10 dataset if present\n",
    "floyd_cifar10_location = '/input/cifar-10/python.tar.gz'\n",
    "if isfile(floyd_cifar10_location):\n",
    "    tar_gz_path = floyd_cifar10_location\n",
    "else:\n",
    "    tar_gz_path = 'cifar-10-python.tar.gz'\n",
    "\n",
    "class DLProgress(tqdm):\n",
    "    last_block = 0\n",
    "\n",
    "    def hook(self, block_num=1, block_size=1, total_size=None):\n",
    "        self.total = total_size\n",
    "        self.update((block_num - self.last_block) * block_size)\n",
    "        self.last_block = block_num\n",
    "\n",
    "if not isfile(tar_gz_path):\n",
    "    with DLProgress(unit='B', unit_scale=True, miniters=1, desc='CIFAR-10 Dataset') as pbar:\n",
    "        urlretrieve(\n",
    "            'https://www.cs.toronto.edu/~kriz/cifar-10-python.tar.gz',\n",
    "            tar_gz_path,\n",
    "            pbar.hook)\n",
    "\n",
    "if not isdir(cifar10_dataset_folder_path):\n",
    "    with tarfile.open(tar_gz_path) as tar:\n",
    "        tar.extractall()\n",
    "        tar.close()\n",
    "\n",
    "\n",
    "tests.test_folder_path(cifar10_dataset_folder_path)"
   ]
  },
  {
   "cell_type": "markdown",
   "metadata": {},
   "source": [
    "## Explore the Data\n",
    "The dataset is broken into batches to prevent your machine from running out of memory.  The CIFAR-10 dataset consists of 5 batches, named `data_batch_1`, `data_batch_2`, etc.. Each batch contains the labels and images that are one of the following:\n",
    "* airplane\n",
    "* automobile\n",
    "* bird\n",
    "* cat\n",
    "* deer\n",
    "* dog\n",
    "* frog\n",
    "* horse\n",
    "* ship\n",
    "* truck\n",
    "\n",
    "Understanding a dataset is part of making predictions on the data.  Play around with the code cell below by changing the `batch_id` and `sample_id`. The `batch_id` is the id for a batch (1-5). The `sample_id` is the id for a image and label pair in the batch.\n",
    "\n",
    "Ask yourself \"What are all possible labels?\", \"What is the range of values for the image data?\", \"Are the labels in order or random?\".  Answers to questions like these will help you preprocess the data and end up with better predictions."
   ]
  },
  {
   "cell_type": "code",
   "execution_count": 2,
   "metadata": {
    "collapsed": false
   },
   "outputs": [
    {
     "name": "stdout",
     "output_type": "stream",
     "text": [
      "\n",
      "Stats of batch 1:\n",
      "Samples: 10000\n",
      "Label Counts: {0: 1005, 1: 974, 2: 1032, 3: 1016, 4: 999, 5: 937, 6: 1030, 7: 1001, 8: 1025, 9: 981}\n",
      "First 20 Labels: [6, 9, 9, 4, 1, 1, 2, 7, 8, 3, 4, 7, 7, 2, 9, 9, 9, 3, 2, 6]\n",
      "\n",
      "Example of Image 5:\n",
      "Image - Min Value: 0 Max Value: 252\n",
      "Image - Shape: (32, 32, 3)\n",
      "Label - Label Id: 1 Name: automobile\n"
     ]
    },
    {
     "data": {
      "image/png": "[encoded data removed]",
      "text/plain": [
       "<matplotlib.figure.Figure at 0x7f65e00be4a8>"
      ]
     },
     "metadata": {
      "image/png": {
       "height": 250,
       "width": 253
      }
     },
     "output_type": "display_data"
    }
   ],
   "source": [
    "%matplotlib inline\n",
    "%config InlineBackend.figure_format = 'retina'\n",
    "\n",
    "import helper\n",
    "import numpy as np\n",
    "\n",
    "# Explore the dataset\n",
    "batch_id = 1\n",
    "sample_id = 5\n",
    "helper.display_stats(cifar10_dataset_folder_path, batch_id, sample_id)"
   ]
  },
  {
   "cell_type": "markdown",
   "metadata": {},
   "source": [
    "## Implement Preprocess Functions\n",
    "### Normalize\n",
    "In the cell below, implement the `normalize` function to take in image data, `x`, and return it as a normalized Numpy array. The values should be in the range of 0 to 1, inclusive.  The return object should be the same shape as `x`."
   ]
  },
  {
   "cell_type": "code",
   "execution_count": 3,
   "metadata": {
    "collapsed": false
   },
   "outputs": [
    {
     "name": "stdout",
     "output_type": "stream",
     "text": [
      "Tests Passed\n"
     ]
    }
   ],
   "source": [
    "def normalize(x):\n",
    "    \"\"\"\n",
    "    Normalize a list of sample image data in the range of 0 to 1\n",
    "    : x: List of image data.  The image shape is (32, 32, 3)\n",
    "    : return: Numpy array of normalize data\n",
    "    \"\"\"\n",
    "    # TODO: Implement Function\n",
    "    return x / 255\n",
    "\n",
    "\n",
    "\"\"\"\n",
    "DON'T MODIFY ANYTHING IN THIS CELL THAT IS BELOW THIS LINE\n",
    "\"\"\"\n",
    "tests.test_normalize(normalize)"
   ]
  },
  {
   "cell_type": "markdown",
   "metadata": {},
   "source": [
    "### One-hot encode\n",
    "Just like the previous code cell, you'll be implementing a function for preprocessing.  This time, you'll implement the `one_hot_encode` function. The input, `x`, are a list of labels.  Implement the function to return the list of labels as One-Hot encoded Numpy array.  The possible values for labels are 0 to 9. The one-hot encoding function should return the same encoding for each value between each call to `one_hot_encode`.  Make sure to save the map of encodings outside the function.\n",
    "\n",
    "Hint: Don't reinvent the wheel."
   ]
  },
  {
   "cell_type": "code",
   "execution_count": 10,
   "metadata": {
    "collapsed": false
   },
   "outputs": [
    {
     "name": "stdout",
     "output_type": "stream",
     "text": [
      "Tests Passed\n"
     ]
    }
   ],
   "source": [
    "from sklearn.preprocessing import LabelBinarizer\n",
    "lb = LabelBinarizer()\n",
    "lb.fit([0, 1, 2, 3, 4, 5, 6, 7, 8, 9])\n",
    "\n",
    "def one_hot_encode(x):\n",
    "    \"\"\"\n",
    "    One hot encode a list of sample labels. Return a one-hot encoded vector for each label.\n",
    "    : x: List of sample Labels\n",
    "    : return: Numpy array of one-hot encoded labels\n",
    "    \"\"\"\n",
    "    # TODO: Implement Function\n",
    "    return lb.transform(x)\n",
    "\n",
    "\n",
    "\"\"\"\n",
    "DON'T MODIFY ANYTHING IN THIS CELL THAT IS BELOW THIS LINE\n",
    "\"\"\"\n",
    "tests.test_one_hot_encode(one_hot_encode)"
   ]
  },
  {
   "cell_type": "markdown",
   "metadata": {},
   "source": [
    "### Randomize Data\n",
    "As you saw from exploring the data above, the order of the samples are randomized.  It doesn't hurt to randomize it again, but you don't need to for this dataset."
   ]
  },
  {
   "cell_type": "markdown",
   "metadata": {},
   "source": [
    "## Preprocess all the data and save it\n",
    "Running the code cell below will preprocess all the CIFAR-10 data and save it to file. The code below also uses 10% of the training data for validation."
   ]
  },
  {
   "cell_type": "code",
   "execution_count": 11,
   "metadata": {
    "collapsed": false
   },
   "outputs": [],
   "source": [
    "\"\"\"\n",
    "DON'T MODIFY ANYTHING IN THIS CELL\n",
    "\"\"\"\n",
    "# Preprocess Training, Validation, and Testing Data\n",
    "helper.preprocess_and_save_data(cifar10_dataset_folder_path, normalize, one_hot_encode)"
   ]
  },
  {
   "cell_type": "markdown",
   "metadata": {},
   "source": [
    "# Check Point\n",
    "This is your first checkpoint.  If you ever decide to come back to this notebook or have to restart the notebook, you can start from here.  The preprocessed data has been saved to disk."
   ]
  },
  {
   "cell_type": "code",
   "execution_count": 12,
   "metadata": {
    "collapsed": true
   },
   "outputs": [],
   "source": [
    "\"\"\"\n",
    "DON'T MODIFY ANYTHING IN THIS CELL\n",
    "\"\"\"\n",
    "import pickle\n",
    "import problem_unittests as tests\n",
    "import helper\n",
    "\n",
    "# Load the Preprocessed Validation data\n",
    "valid_features, valid_labels = pickle.load(open('preprocess_validation.p', mode='rb'))"
   ]
  },
  {
   "cell_type": "markdown",
   "metadata": {},
   "source": [
    "## Build the network\n",
    "For the neural network, you'll build each layer into a function.  Most of the code you've seen has been outside of functions. To test your code more thoroughly, we require that you put each layer in a function.  This allows us to give you better feedback and test for simple mistakes using our unittests before you submit your project.\n",
    "\n",
    ">**Note:** If you're finding it hard to dedicate enough time for this course each week, we've provided a small shortcut to this part of the project. In the next couple of problems, you'll have the option to use classes from the [TensorFlow Layers](https://www.tensorflow.org/api_docs/python/tf/layers) or [TensorFlow Layers (contrib)](https://www.tensorflow.org/api_guides/python/contrib.layers) packages to build each layer, except the layers you build in the \"Convolutional and Max Pooling Layer\" section.  TF Layers is similar to Keras's and TFLearn's abstraction to layers, so it's easy to pickup.\n",
    "\n",
    ">However, if you would like to get the most out of this course, try to solve all the problems _without_ using anything from the TF Layers packages. You **can** still use classes from other packages that happen to have the same name as ones you find in TF Layers! For example, instead of using the TF Layers version of the `conv2d` class, [tf.layers.conv2d](https://www.tensorflow.org/api_docs/python/tf/layers/conv2d), you would want to use the TF Neural Network version of `conv2d`, [tf.nn.conv2d](https://www.tensorflow.org/api_docs/python/tf/nn/conv2d). \n",
    "\n",
    "Let's begin!\n",
    "\n",
    "### Input\n",
    "The neural network needs to read the image data, one-hot encoded labels, and dropout keep probability. Implement the following functions\n",
    "* Implement `neural_net_image_input`\n",
    " * Return a [TF Placeholder](https://www.tensorflow.org/api_docs/python/tf/placeholder)\n",
    " * Set the shape using `image_shape` with batch size set to `None`.\n",
    " * Name the TensorFlow placeholder \"x\" using the TensorFlow `name` parameter in the [TF Placeholder](https://www.tensorflow.org/api_docs/python/tf/placeholder).\n",
    "* Implement `neural_net_label_input`\n",
    " * Return a [TF Placeholder](https://www.tensorflow.org/api_docs/python/tf/placeholder)\n",
    " * Set the shape using `n_classes` with batch size set to `None`.\n",
    " * Name the TensorFlow placeholder \"y\" using the TensorFlow `name` parameter in the [TF Placeholder](https://www.tensorflow.org/api_docs/python/tf/placeholder).\n",
    "* Implement `neural_net_keep_prob_input`\n",
    " * Return a [TF Placeholder](https://www.tensorflow.org/api_docs/python/tf/placeholder) for dropout keep probability.\n",
    " * Name the TensorFlow placeholder \"keep_prob\" using the TensorFlow `name` parameter in the [TF Placeholder](https://www.tensorflow.org/api_docs/python/tf/placeholder).\n",
    "\n",
    "These names will be used at the end of the project to load your saved model.\n",
    "\n",
    "Note: `None` for shapes in TensorFlow allow for a dynamic size."
   ]
  },
  {
   "cell_type": "code",
   "execution_count": 16,
   "metadata": {
    "collapsed": false
   },
   "outputs": [
    {
     "name": "stdout",
     "output_type": "stream",
     "text": [
      "Image Input Tests Passed.\n",
      "Label Input Tests Passed.\n",
      "Keep Prob Tests Passed.\n"
     ]
    }
   ],
   "source": [
    "import tensorflow as tf\n",
    "\n",
    "def neural_net_image_input(image_shape):\n",
    "    \"\"\"\n",
    "    Return a Tensor for a batch of image input\n",
    "    : image_shape: Shape of the images\n",
    "    : return: Tensor for image input.\n",
    "    \"\"\"\n",
    "    # TODO: Implement Function\n",
    "    return tf.placeholder(tf.float32, shape=(None, image_shape[0], image_shape[1], image_shape[2]), name='x')\n",
    "\n",
    "\n",
    "def neural_net_label_input(n_classes):\n",
    "    \"\"\"\n",
    "    Return a Tensor for a batch of label input\n",
    "    : n_classes: Number of classes\n",
    "    : return: Tensor for label input.\n",
    "    \"\"\"\n",
    "    # TODO: Implement Function\n",
    "    return tf.placeholder(tf.float32, shape=(None, n_classes), name='y')\n",
    "\n",
    "\n",
    "def neural_net_keep_prob_input():\n",
    "    \"\"\"\n",
    "    Return a Tensor for keep probability\n",
    "    : return: Tensor for keep probability.\n",
    "    \"\"\"\n",
    "    # TODO: Implement Function\n",
    "    return tf.placeholder(tf.float32, name='keep_prob')\n",
    "\n",
    "\n",
    "\"\"\"\n",
    "DON'T MODIFY ANYTHING IN THIS CELL THAT IS BELOW THIS LINE\n",
    "\"\"\"\n",
    "tf.reset_default_graph()\n",
    "tests.test_nn_image_inputs(neural_net_image_input)\n",
    "tests.test_nn_label_inputs(neural_net_label_input)\n",
    "tests.test_nn_keep_prob_inputs(neural_net_keep_prob_input)"
   ]
  },
  {
   "cell_type": "markdown",
   "metadata": {},
   "source": [
    "### Convolution and Max Pooling Layer\n",
    "Convolution layers have a lot of success with images. For this code cell, you should implement the function `conv2d_maxpool` to apply convolution then max pooling:\n",
    "* Create the weight and bias using `conv_ksize`, `conv_num_outputs` and the shape of `x_tensor`.\n",
    "* Apply a convolution to `x_tensor` using weight and `conv_strides`.\n",
    " * We recommend you use same padding, but you're welcome to use any padding.\n",
    "* Add bias\n",
    "* Add a nonlinear activation to the convolution.\n",
    "* Apply Max Pooling using `pool_ksize` and `pool_strides`.\n",
    " * We recommend you use same padding, but you're welcome to use any padding.\n",
    "\n",
    "**Note:** You **can't** use [TensorFlow Layers](https://www.tensorflow.org/api_docs/python/tf/layers) or [TensorFlow Layers (contrib)](https://www.tensorflow.org/api_guides/python/contrib.layers) for **this** layer, but you can still use TensorFlow's [Neural Network](https://www.tensorflow.org/api_docs/python/tf/nn) package. You may still use the shortcut option for all the **other** layers."
   ]
  },
  {
   "cell_type": "code",
   "execution_count": 88,
   "metadata": {
    "collapsed": true
   },
   "outputs": [],
   "source": [
    "tf.reset_default_graph()"
   ]
  },
  {
   "cell_type": "code",
   "execution_count": 104,
   "metadata": {
    "collapsed": false
   },
   "outputs": [
    {
     "name": "stdout",
     "output_type": "stream",
     "text": [
      "Tests Passed\n"
     ]
    }
   ],
   "source": [
    "def conv2d_maxpool(x_tensor, conv_num_outputs, conv_ksize, conv_strides, pool_ksize, pool_strides):\n",
    "    \"\"\"\n",
    "    Apply convolution then max pooling to x_tensor\n",
    "    :param x_tensor: TensorFlow Tensor\n",
    "    :param conv_num_outputs: Number of outputs for the convolutional layer\n",
    "    :param conv_ksize: kernal size 2-D Tuple for the convolutional layer\n",
    "    :param conv_strides: Stride 2-D Tuple for convolution\n",
    "    :param pool_ksize: kernal size 2-D Tuple for pool\n",
    "    :param pool_strides: Stride 2-D Tuple for pool\n",
    "    : return: A tensor that represents convolution and max pooling of x_tensor\n",
    "    \"\"\"\n",
    "    # TODO: Implement Function\n",
    "    \n",
    "    tensor_shape = x_tensor.get_shape().as_list()\n",
    "    num_channels = tensor_shape[3]\n",
    "    \n",
    "    weights = tf.get_variable('weights',\n",
    "                               shape=[conv_ksize[0], conv_ksize[1], num_channels, conv_num_outputs],\n",
    "                               initializer=tf.random_normal_initializer(stddev=0.1))\n",
    "    biases = tf.get_variable('biases',\n",
    "                              shape=[conv_num_outputs],\n",
    "                              initializer=tf.constant_initializer(0.0))\n",
    "    conv = tf.nn.conv2d(x_tensor, weights, strides=[1, conv_strides[0], conv_strides[1], 1], padding='SAME')\n",
    "    conv = tf.nn.bias_add(conv, biases)\n",
    "    conv_relu = tf.nn.relu(conv)\n",
    "    pooled = tf.nn.max_pool(conv_relu, ksize=[1, pool_ksize[0], pool_ksize[1], 1],\n",
    "                            strides=[1, pool_strides[0], pool_strides[1], 1], padding='SAME')\n",
    "    \n",
    "    return pooled \n",
    "\n",
    "\n",
    "\"\"\"\n",
    "DON'T MODIFY ANYTHING IN THIS CELL THAT IS BELOW THIS LINE\n",
    "\"\"\"\n",
    "tests.test_con_pool(conv2d_maxpool)"
   ]
  },
  {
   "cell_type": "markdown",
   "metadata": {},
   "source": [
    "### Flatten Layer\n",
    "Implement the `flatten` function to change the dimension of `x_tensor` from a 4-D tensor to a 2-D tensor.  The output should be the shape (*Batch Size*, *Flattened Image Size*). Shortcut option: you can use classes from the [TensorFlow Layers](https://www.tensorflow.org/api_docs/python/tf/layers) or [TensorFlow Layers (contrib)](https://www.tensorflow.org/api_guides/python/contrib.layers) packages for this layer. For more of a challenge, only use other TensorFlow packages."
   ]
  },
  {
   "cell_type": "code",
   "execution_count": null,
   "metadata": {
    "collapsed": false
   },
   "outputs": [],
   "source": [
    "def flatten(x_tensor):\n",
    "    \"\"\"\n",
    "    Flatten x_tensor to (Batch Size, Flattened Image Size)\n",
    "    : x_tensor: A tensor of size (Batch Size, ...), where ... are the image dimensions.\n",
    "    : return: A tensor of size (Batch Size, Flattened Image Size).\n",
    "    \"\"\"\n",
    "    # TODO: Implement Function\n",
    "    tensor_shape = x_tensor.get_shape().as_list()\n",
    "    batch_size = tf.shape(x_tensor)[0]\n",
    "    flat_image_size = np.product(tensor_shape[1:])\n",
    "    \n",
    "    return tf.reshape(x_tensor, shape=tf.stack([batch_size, flat_image_size]))\n",
    "\n",
    "\n",
    "\"\"\"\n",
    "DON'T MODIFY ANYTHING IN THIS CELL THAT IS BELOW THIS LINE\n",
    "\"\"\"\n",
    "tests.test_flatten(flatten)"
   ]
  },
  {
   "cell_type": "markdown",
   "metadata": {},
   "source": [
    "### Fully-Connected Layer\n",
    "Implement the `fully_conn` function to apply a fully connected layer to `x_tensor` with the shape (*Batch Size*, *num_outputs*). Shortcut option: you can use classes from the [TensorFlow Layers](https://www.tensorflow.org/api_docs/python/tf/layers) or [TensorFlow Layers (contrib)](https://www.tensorflow.org/api_guides/python/contrib.layers) packages for this layer. For more of a challenge, only use other TensorFlow packages."
   ]
  },
  {
   "cell_type": "code",
   "execution_count": 105,
   "metadata": {
    "collapsed": false
   },
   "outputs": [
    {
     "name": "stdout",
     "output_type": "stream",
     "text": [
      "Tests Passed\n"
     ]
    }
   ],
   "source": [
    "tf.reset_default_graph()\n",
    "def fully_conn(x_tensor, num_outputs):\n",
    "    \"\"\"\n",
    "    Apply a fully connected layer to x_tensor using weight and bias\n",
    "    : x_tensor: A 2-D tensor where the first dimension is batch size.\n",
    "    : num_outputs: The number of output that the new tensor should be.\n",
    "    : return: A 2-D tensor where the second dimension is num_outputs.\n",
    "    \"\"\"\n",
    "    # TODO: Implement Function\n",
    "    tensor_shape = x_tensor.get_shape().as_list()\n",
    "    batch_size = tensor_shape[0]\n",
    "    num_features = tensor_shape[1]\n",
    "\n",
    "    weights = tf.get_variable('weights',\n",
    "                               shape=[num_features, num_outputs],\n",
    "                               initializer=tf.random_normal_initializer(stddev=0.1))\n",
    "    biases = tf.get_variable('biases',\n",
    "                              shape=[num_outputs],\n",
    "                              initializer=tf.constant_initializer(0.0))\n",
    "    fc = tf.matmul(x_tensor, weights)\n",
    "    fc = tf.nn.bias_add(fc, biases)\n",
    "    fc_relu = tf.nn.relu(fc)\n",
    "        \n",
    "    \n",
    "    return fc_relu\n",
    "\n",
    "\n",
    "\"\"\"\n",
    "DON'T MODIFY ANYTHING IN THIS CELL THAT IS BELOW THIS LINE\n",
    "\"\"\"\n",
    "tests.test_fully_conn(fully_conn)"
   ]
  },
  {
   "cell_type": "markdown",
   "metadata": {},
   "source": [
    "### Output Layer\n",
    "Implement the `output` function to apply a fully connected layer to `x_tensor` with the shape (*Batch Size*, *num_outputs*). Shortcut option: you can use classes from the [TensorFlow Layers](https://www.tensorflow.org/api_docs/python/tf/layers) or [TensorFlow Layers (contrib)](https://www.tensorflow.org/api_guides/python/contrib.layers) packages for this layer. For more of a challenge, only use other TensorFlow packages.\n",
    "\n",
    "**Note:** Activation, softmax, or cross entropy should **not** be applied to this."
   ]
  },
  {
   "cell_type": "code",
   "execution_count": 106,
   "metadata": {
    "collapsed": false
   },
   "outputs": [
    {
     "name": "stdout",
     "output_type": "stream",
     "text": [
      "Tests Passed\n"
     ]
    }
   ],
   "source": [
    "tf.reset_default_graph()\n",
    "def output(x_tensor, num_outputs):\n",
    "    \"\"\"\n",
    "    Apply a output layer to x_tensor using weight and bias\n",
    "    : x_tensor: A 2-D tensor where the first dimension is batch size.\n",
    "    : num_outputs: The number of output that the new tensor should be.\n",
    "    : return: A 2-D tensor where the second dimension is num_outputs.\n",
    "    \"\"\"\n",
    "    # TODO: Implement Function\n",
    "    tensor_shape = x_tensor.get_shape().as_list()\n",
    "    batch_size = tensor_shape[0]\n",
    "    num_features = tensor_shape[1]\n",
    "\n",
    "    weights = tf.get_variable('weights',\n",
    "                               shape=[num_features, num_outputs],\n",
    "                               initializer=tf.random_normal_initializer(stddev=0.1))\n",
    "    biases = tf.get_variable('biases',\n",
    "                              shape=[num_outputs],\n",
    "                              initializer=tf.constant_initializer(0.0))\n",
    "    out = tf.matmul(x_tensor, weights)\n",
    "    out = tf.nn.bias_add(out, biases)\n",
    "        \n",
    "    return out\n",
    "\n",
    "\n",
    "\"\"\"\n",
    "DON'T MODIFY ANYTHING IN THIS CELL THAT IS BELOW THIS LINE\n",
    "\"\"\"\n",
    "tests.test_output(output)"
   ]
  },
  {
   "cell_type": "markdown",
   "metadata": {},
   "source": [
    "### Create Convolutional Model\n",
    "Implement the function `conv_net` to create a convolutional neural network model. The function takes in a batch of images, `x`, and outputs logits.  Use the layers you created above to create this model:\n",
    "\n",
    "* Apply 1, 2, or 3 Convolution and Max Pool layers\n",
    "* Apply a Flatten Layer\n",
    "* Apply 1, 2, or 3 Fully Connected Layers\n",
    "* Apply an Output Layer\n",
    "* Return the output\n",
    "* Apply [TensorFlow's Dropout](https://www.tensorflow.org/api_docs/python/tf/nn/dropout) to one or more layers in the model using `keep_prob`. "
   ]
  },
  {
   "cell_type": "code",
   "execution_count": 107,
   "metadata": {
    "collapsed": false
   },
   "outputs": [
    {
     "name": "stdout",
     "output_type": "stream",
     "text": [
      "Neural Network Built!\n"
     ]
    }
   ],
   "source": [
    "def conv_net(x, keep_prob):\n",
    "    \"\"\"\n",
    "    Create a convolutional neural network model\n",
    "    : x: Placeholder tensor that holds image data.\n",
    "    : keep_prob: Placeholder tensor that hold dropout keep probability.\n",
    "    : return: Tensor that represents logits\n",
    "    \"\"\"\n",
    "    # TODO: Apply 1, 2, or 3 Convolution and Max Pool layers\n",
    "    #    Play around with different number of outputs, kernel size and stride\n",
    "    # Function Definition from Above:\n",
    "    #    conv2d_maxpool(x_tensor, conv_num_outputs, conv_ksize, conv_strides, pool_ksize, pool_strides)\n",
    "    with tf.variable_scope(\"conv1\"):\n",
    "        conv1_out = conv2d_maxpool(x, \n",
    "                                   conv_num_outputs=32, \n",
    "                                   conv_ksize=(5,5), \n",
    "                                   conv_strides=(1,1), \n",
    "                                   pool_ksize=(3,3), \n",
    "                                   pool_strides=(2,2))\n",
    "    with tf.variable_scope(\"conv2\"):\n",
    "        conv2_out = conv2d_maxpool(conv1_out, \n",
    "                                   conv_num_outputs=64, \n",
    "                                   conv_ksize=(5,5), \n",
    "                                   conv_strides=(1,1), \n",
    "                                   pool_ksize=(3,3), \n",
    "                                   pool_strides=(2,2))\n",
    "    with tf.variable_scope(\"conv3\"):\n",
    "        conv3_out = conv2d_maxpool(conv2_out, \n",
    "                                   conv_num_outputs=128, \n",
    "                                   conv_ksize=(5,5), \n",
    "                                   conv_strides=(1,1), \n",
    "                                   pool_ksize=(3,3), \n",
    "                                   pool_strides=(2,2))\n",
    "    \n",
    "\n",
    "    # TODO: Apply a Flatten Layer\n",
    "    # Function Definition from Above:\n",
    "    #   flatten(x_tensor)\n",
    "    conv3_flat = flatten(conv3_out)\n",
    "\n",
    "    # TODO: Apply 1, 2, or 3 Fully Connected Layers\n",
    "    #    Play around with different number of outputs\n",
    "    # Function Definition from Above:\n",
    "    #   fully_conn(x_tensor, num_outputs)\n",
    "    with tf.variable_scope(\"fc1\"):\n",
    "        fc1_out = fully_conn(conv3_flat, num_outputs=512)\n",
    "        fc1_out = tf.nn.dropout(fc1_out, keep_prob)\n",
    "    with tf.variable_scope(\"fc2\"):\n",
    "        fc2_out = fully_conn(fc1_out, num_outputs=64)\n",
    "        fc2_out = tf.nn.dropout(fc2_out, keep_prob)\n",
    "    \n",
    "    # TODO: Apply an Output Layer\n",
    "    #    Set this to the number of classes\n",
    "    # Function Definition from Above:\n",
    "    #   output(x_tensor, num_outputs)\n",
    "    with tf.variable_scope(\"out\"):\n",
    "        logits = output(fc2_out, 10)\n",
    "    \n",
    "    # TODO: return output\n",
    "    return logits\n",
    "\n",
    "\n",
    "\"\"\"\n",
    "DON'T MODIFY ANYTHING IN THIS CELL THAT IS BELOW THIS LINE\n",
    "\"\"\"\n",
    "\n",
    "##############################\n",
    "## Build the Neural Network ##\n",
    "##############################\n",
    "\n",
    "#Moved the test so it doesn't interfere with the variable scopes\n",
    "tf.reset_default_graph()\n",
    "tests.test_conv_net(conv_net)\n",
    "\n",
    "# Remove previous weights, bias, inputs, etc..\n",
    "tf.reset_default_graph()\n",
    "\n",
    "# Inputs\n",
    "x = neural_net_image_input((32, 32, 3))\n",
    "y = neural_net_label_input(10)\n",
    "keep_prob = neural_net_keep_prob_input()\n",
    "\n",
    "# Model\n",
    "logits = conv_net(x, keep_prob)\n",
    "\n",
    "# Name logits Tensor, so that is can be loaded from disk after training\n",
    "logits = tf.identity(logits, name='logits')\n",
    "\n",
    "# Loss and Optimizer\n",
    "cost = tf.reduce_mean(tf.nn.softmax_cross_entropy_with_logits(logits=logits, labels=y))\n",
    "optimizer = tf.train.AdamOptimizer().minimize(cost)\n",
    "\n",
    "# Accuracy\n",
    "correct_pred = tf.equal(tf.argmax(logits, 1), tf.argmax(y, 1))\n",
    "accuracy = tf.reduce_mean(tf.cast(correct_pred, tf.float32), name='accuracy')"
   ]
  },
  {
   "cell_type": "markdown",
   "metadata": {},
   "source": [
    "## Train the Neural Network\n",
    "### Single Optimization\n",
    "Implement the function `train_neural_network` to do a single optimization.  The optimization should use `optimizer` to optimize in `session` with a `feed_dict` of the following:\n",
    "* `x` for image input\n",
    "* `y` for labels\n",
    "* `keep_prob` for keep probability for dropout\n",
    "\n",
    "This function will be called for each batch, so `tf.global_variables_initializer()` has already been called.\n",
    "\n",
    "Note: Nothing needs to be returned. This function is only optimizing the neural network."
   ]
  },
  {
   "cell_type": "code",
   "execution_count": 73,
   "metadata": {
    "collapsed": false
   },
   "outputs": [
    {
     "name": "stdout",
     "output_type": "stream",
     "text": [
      "Tests Passed\n"
     ]
    }
   ],
   "source": [
    "def train_neural_network(session, optimizer, keep_probability, feature_batch, label_batch):\n",
    "    \"\"\"\n",
    "    Optimize the session on a batch of images and labels\n",
    "    : session: Current TensorFlow session\n",
    "    : optimizer: TensorFlow optimizer function\n",
    "    : keep_probability: keep probability\n",
    "    : feature_batch: Batch of Numpy image data\n",
    "    : label_batch: Batch of Numpy label data\n",
    "    \"\"\"\n",
    "    # TODO: Implement Function\n",
    "    session.run(optimizer, feed_dict={x: feature_batch,\n",
    "                                      y: label_batch,\n",
    "                                      keep_prob: keep_probability})\n",
    "    pass\n",
    "\n",
    "\n",
    "\"\"\"\n",
    "DON'T MODIFY ANYTHING IN THIS CELL THAT IS BELOW THIS LINE\n",
    "\"\"\"\n",
    "tests.test_train_nn(train_neural_network)"
   ]
  },
  {
   "cell_type": "markdown",
   "metadata": {},
   "source": [
    "### Show Stats\n",
    "Implement the function `print_stats` to print loss and validation accuracy.  Use the global variables `valid_features` and `valid_labels` to calculate validation accuracy.  Use a keep probability of `1.0` to calculate the loss and validation accuracy."
   ]
  },
  {
   "cell_type": "code",
   "execution_count": 77,
   "metadata": {
    "collapsed": false
   },
   "outputs": [],
   "source": [
    "def print_stats(session, feature_batch, label_batch, cost, accuracy):\n",
    "    \"\"\"\n",
    "    Print information about loss and validation accuracy\n",
    "    : session: Current TensorFlow session\n",
    "    : feature_batch: Batch of Numpy image data\n",
    "    : label_batch: Batch of Numpy label data\n",
    "    : cost: TensorFlow cost function\n",
    "    : accuracy: TensorFlow accuracy function\n",
    "    \"\"\"\n",
    "    # TODO: Implement Function\n",
    "    loss = session.run(cost, feed_dict={x: feature_batch,\n",
    "                                        y: label_batch,\n",
    "                                        keep_prob: 1.0})\n",
    "    valid_acc = session.run(accuracy, feed_dict={x: valid_features,\n",
    "                                                y: valid_labels,\n",
    "                                                keep_prob: 1.0})\n",
    "    print('Loss: {:>10.4f}  Validation Accuracy: {:.6f}'.format(loss, valid_acc))\n",
    "    \n",
    "    pass"
   ]
  },
  {
   "cell_type": "markdown",
   "metadata": {},
   "source": [
    "### Hyperparameters\n",
    "Tune the following parameters:\n",
    "* Set `epochs` to the number of iterations until the network stops learning or start overfitting\n",
    "* Set `batch_size` to the highest number that your machine has memory for.  Most people set them to common sizes of memory:\n",
    " * 64\n",
    " * 128\n",
    " * 256\n",
    " * ...\n",
    "* Set `keep_probability` to the probability of keeping a node using dropout"
   ]
  },
  {
   "cell_type": "code",
   "execution_count": 95,
   "metadata": {
    "collapsed": true
   },
   "outputs": [],
   "source": [
    "# TODO: Tune Parameters\n",
    "epochs = 30\n",
    "batch_size = 512\n",
    "keep_probability = 0.5"
   ]
  },
  {
   "cell_type": "markdown",
   "metadata": {},
   "source": [
    "### Train on a Single CIFAR-10 Batch\n",
    "Instead of training the neural network on all the CIFAR-10 batches of data, let's use a single batch. This should save time while you iterate on the model to get a better accuracy.  Once the final validation accuracy is 50% or greater, run the model on all the data in the next section."
   ]
  },
  {
   "cell_type": "code",
   "execution_count": 108,
   "metadata": {
    "collapsed": false
   },
   "outputs": [
    {
     "name": "stdout",
     "output_type": "stream",
     "text": [
      "Checking the Training on a Single Batch...\n",
      "Epoch  1, CIFAR-10 Batch 1:  Loss:     2.3026  Validation Accuracy: 0.094600\n",
      "Epoch  2, CIFAR-10 Batch 1:  Loss:     2.3026  Validation Accuracy: 0.099800\n",
      "Epoch  3, CIFAR-10 Batch 1:  Loss:     2.2916  Validation Accuracy: 0.152200\n",
      "Epoch  4, CIFAR-10 Batch 1:  Loss:     2.2437  Validation Accuracy: 0.176400\n",
      "Epoch  5, CIFAR-10 Batch 1:  Loss:     2.1763  Validation Accuracy: 0.210200\n",
      "Epoch  6, CIFAR-10 Batch 1:  Loss:     2.0552  Validation Accuracy: 0.265000\n",
      "Epoch  7, CIFAR-10 Batch 1:  Loss:     1.9778  Validation Accuracy: 0.292600\n",
      "Epoch  8, CIFAR-10 Batch 1:  Loss:     1.8274  Validation Accuracy: 0.356600\n",
      "Epoch  9, CIFAR-10 Batch 1:  Loss:     1.7866  Validation Accuracy: 0.363000\n",
      "Epoch 10, CIFAR-10 Batch 1:  Loss:     1.6516  Validation Accuracy: 0.404200\n",
      "Epoch 11, CIFAR-10 Batch 1:  Loss:     1.5844  Validation Accuracy: 0.417600\n",
      "Epoch 12, CIFAR-10 Batch 1:  Loss:     1.4944  Validation Accuracy: 0.418800\n",
      "Epoch 13, CIFAR-10 Batch 1:  Loss:     1.4383  Validation Accuracy: 0.449400\n",
      "Epoch 14, CIFAR-10 Batch 1:  Loss:     1.4033  Validation Accuracy: 0.463600\n",
      "Epoch 15, CIFAR-10 Batch 1:  Loss:     1.3228  Validation Accuracy: 0.470600\n",
      "Epoch 16, CIFAR-10 Batch 1:  Loss:     1.2688  Validation Accuracy: 0.476800\n",
      "Epoch 17, CIFAR-10 Batch 1:  Loss:     1.1810  Validation Accuracy: 0.503200\n",
      "Epoch 18, CIFAR-10 Batch 1:  Loss:     1.1407  Validation Accuracy: 0.500600\n",
      "Epoch 19, CIFAR-10 Batch 1:  Loss:     1.1302  Validation Accuracy: 0.492800\n",
      "Epoch 20, CIFAR-10 Batch 1:  Loss:     1.0298  Validation Accuracy: 0.522800\n",
      "Epoch 21, CIFAR-10 Batch 1:  Loss:     0.9677  Validation Accuracy: 0.531000\n",
      "Epoch 22, CIFAR-10 Batch 1:  Loss:     0.9205  Validation Accuracy: 0.535000\n",
      "Epoch 23, CIFAR-10 Batch 1:  Loss:     0.8462  Validation Accuracy: 0.534600\n",
      "Epoch 24, CIFAR-10 Batch 1:  Loss:     0.7899  Validation Accuracy: 0.534200\n",
      "Epoch 25, CIFAR-10 Batch 1:  Loss:     0.7783  Validation Accuracy: 0.537800\n",
      "Epoch 26, CIFAR-10 Batch 1:  Loss:     0.7339  Validation Accuracy: 0.550000\n",
      "Epoch 27, CIFAR-10 Batch 1:  Loss:     0.6715  Validation Accuracy: 0.546600\n",
      "Epoch 28, CIFAR-10 Batch 1:  Loss:     0.6635  Validation Accuracy: 0.555200\n",
      "Epoch 29, CIFAR-10 Batch 1:  Loss:     0.5886  Validation Accuracy: 0.567800\n",
      "Epoch 30, CIFAR-10 Batch 1:  Loss:     0.5891  Validation Accuracy: 0.556400\n"
     ]
    }
   ],
   "source": [
    "\"\"\"\n",
    "DON'T MODIFY ANYTHING IN THIS CELL\n",
    "\"\"\"\n",
    "print('Checking the Training on a Single Batch...')\n",
    "with tf.Session() as sess:\n",
    "    # Initializing the variables\n",
    "    sess.run(tf.global_variables_initializer())\n",
    "    \n",
    "    # Training cycle\n",
    "    for epoch in range(epochs):\n",
    "        batch_i = 1\n",
    "        for batch_features, batch_labels in helper.load_preprocess_training_batch(batch_i, batch_size):\n",
    "            train_neural_network(sess, optimizer, keep_probability, batch_features, batch_labels)\n",
    "        print('Epoch {:>2}, CIFAR-10 Batch {}:  '.format(epoch + 1, batch_i), end='')\n",
    "        print_stats(sess, batch_features, batch_labels, cost, accuracy)"
   ]
  },
  {
   "cell_type": "markdown",
   "metadata": {},
   "source": [
    "### Fully Train the Model\n",
    "Now that you got a good accuracy with a single CIFAR-10 batch, try it with all five batches."
   ]
  },
  {
   "cell_type": "code",
   "execution_count": 109,
   "metadata": {
    "collapsed": false
   },
   "outputs": [
    {
     "name": "stdout",
     "output_type": "stream",
     "text": [
      "Training...\n",
      "Epoch  1, CIFAR-10 Batch 1:  Loss:     2.3029  Validation Accuracy: 0.097000\n",
      "Epoch  1, CIFAR-10 Batch 2:  Loss:     2.3028  Validation Accuracy: 0.104000\n",
      "Epoch  1, CIFAR-10 Batch 3:  Loss:     2.2552  Validation Accuracy: 0.167200\n",
      "Epoch  1, CIFAR-10 Batch 4:  Loss:     2.2576  Validation Accuracy: 0.173200\n",
      "Epoch  1, CIFAR-10 Batch 5:  Loss:     2.2136  Validation Accuracy: 0.217200\n",
      "Epoch  2, CIFAR-10 Batch 1:  Loss:     2.0660  Validation Accuracy: 0.289400\n",
      "Epoch  2, CIFAR-10 Batch 2:  Loss:     1.8691  Validation Accuracy: 0.358400\n",
      "Epoch  2, CIFAR-10 Batch 3:  Loss:     1.7979  Validation Accuracy: 0.376400\n",
      "Epoch  2, CIFAR-10 Batch 4:  Loss:     1.6651  Validation Accuracy: 0.404600\n",
      "Epoch  2, CIFAR-10 Batch 5:  Loss:     1.6388  Validation Accuracy: 0.419800\n",
      "Epoch  3, CIFAR-10 Batch 1:  Loss:     1.6849  Validation Accuracy: 0.434400\n",
      "Epoch  3, CIFAR-10 Batch 2:  Loss:     1.5298  Validation Accuracy: 0.446000\n",
      "Epoch  3, CIFAR-10 Batch 3:  Loss:     1.4462  Validation Accuracy: 0.459200\n",
      "Epoch  3, CIFAR-10 Batch 4:  Loss:     1.4243  Validation Accuracy: 0.464600\n",
      "Epoch  3, CIFAR-10 Batch 5:  Loss:     1.3755  Validation Accuracy: 0.481600\n",
      "Epoch  4, CIFAR-10 Batch 1:  Loss:     1.4830  Validation Accuracy: 0.489800\n",
      "Epoch  4, CIFAR-10 Batch 2:  Loss:     1.3043  Validation Accuracy: 0.512800\n",
      "Epoch  4, CIFAR-10 Batch 3:  Loss:     1.2525  Validation Accuracy: 0.520400\n",
      "Epoch  4, CIFAR-10 Batch 4:  Loss:     1.2235  Validation Accuracy: 0.527800\n",
      "Epoch  4, CIFAR-10 Batch 5:  Loss:     1.2214  Validation Accuracy: 0.541600\n",
      "Epoch  5, CIFAR-10 Batch 1:  Loss:     1.3427  Validation Accuracy: 0.509000\n",
      "Epoch  5, CIFAR-10 Batch 2:  Loss:     1.2425  Validation Accuracy: 0.534600\n",
      "Epoch  5, CIFAR-10 Batch 3:  Loss:     1.1386  Validation Accuracy: 0.537800\n",
      "Epoch  5, CIFAR-10 Batch 4:  Loss:     1.1268  Validation Accuracy: 0.563800\n",
      "Epoch  5, CIFAR-10 Batch 5:  Loss:     1.1100  Validation Accuracy: 0.568600\n",
      "Epoch  6, CIFAR-10 Batch 1:  Loss:     1.1768  Validation Accuracy: 0.556400\n",
      "Epoch  6, CIFAR-10 Batch 2:  Loss:     1.1013  Validation Accuracy: 0.563400\n",
      "Epoch  6, CIFAR-10 Batch 3:  Loss:     1.0277  Validation Accuracy: 0.565400\n",
      "Epoch  6, CIFAR-10 Batch 4:  Loss:     0.9760  Validation Accuracy: 0.586400\n",
      "Epoch  6, CIFAR-10 Batch 5:  Loss:     1.0253  Validation Accuracy: 0.591400\n",
      "Epoch  7, CIFAR-10 Batch 1:  Loss:     1.0646  Validation Accuracy: 0.578600\n",
      "Epoch  7, CIFAR-10 Batch 2:  Loss:     1.0079  Validation Accuracy: 0.582200\n",
      "Epoch  7, CIFAR-10 Batch 3:  Loss:     0.9711  Validation Accuracy: 0.588400\n",
      "Epoch  7, CIFAR-10 Batch 4:  Loss:     0.9257  Validation Accuracy: 0.593400\n",
      "Epoch  7, CIFAR-10 Batch 5:  Loss:     0.9687  Validation Accuracy: 0.598600\n",
      "Epoch  8, CIFAR-10 Batch 1:  Loss:     1.0191  Validation Accuracy: 0.593000\n",
      "Epoch  8, CIFAR-10 Batch 2:  Loss:     0.9537  Validation Accuracy: 0.605400\n",
      "Epoch  8, CIFAR-10 Batch 3:  Loss:     0.8853  Validation Accuracy: 0.604800\n",
      "Epoch  8, CIFAR-10 Batch 4:  Loss:     0.8309  Validation Accuracy: 0.608400\n",
      "Epoch  8, CIFAR-10 Batch 5:  Loss:     0.8743  Validation Accuracy: 0.614200\n",
      "Epoch  9, CIFAR-10 Batch 1:  Loss:     0.9442  Validation Accuracy: 0.603000\n",
      "Epoch  9, CIFAR-10 Batch 2:  Loss:     0.8983  Validation Accuracy: 0.590000\n",
      "Epoch  9, CIFAR-10 Batch 3:  Loss:     0.8286  Validation Accuracy: 0.615400\n",
      "Epoch  9, CIFAR-10 Batch 4:  Loss:     0.7608  Validation Accuracy: 0.628000\n",
      "Epoch  9, CIFAR-10 Batch 5:  Loss:     0.8031  Validation Accuracy: 0.633600\n",
      "Epoch 10, CIFAR-10 Batch 1:  Loss:     0.8645  Validation Accuracy: 0.621800\n",
      "Epoch 10, CIFAR-10 Batch 2:  Loss:     0.7931  Validation Accuracy: 0.626400\n",
      "Epoch 10, CIFAR-10 Batch 3:  Loss:     0.7486  Validation Accuracy: 0.631400\n",
      "Epoch 10, CIFAR-10 Batch 4:  Loss:     0.6648  Validation Accuracy: 0.644000\n",
      "Epoch 10, CIFAR-10 Batch 5:  Loss:     0.7555  Validation Accuracy: 0.644600\n",
      "Epoch 11, CIFAR-10 Batch 1:  Loss:     0.7960  Validation Accuracy: 0.634600\n",
      "Epoch 11, CIFAR-10 Batch 2:  Loss:     0.7605  Validation Accuracy: 0.637200\n",
      "Epoch 11, CIFAR-10 Batch 3:  Loss:     0.6920  Validation Accuracy: 0.646800\n",
      "Epoch 11, CIFAR-10 Batch 4:  Loss:     0.6163  Validation Accuracy: 0.652600\n",
      "Epoch 11, CIFAR-10 Batch 5:  Loss:     0.6939  Validation Accuracy: 0.652000\n",
      "Epoch 12, CIFAR-10 Batch 1:  Loss:     0.7869  Validation Accuracy: 0.642600\n",
      "Epoch 12, CIFAR-10 Batch 2:  Loss:     0.7537  Validation Accuracy: 0.622000\n",
      "Epoch 12, CIFAR-10 Batch 3:  Loss:     0.7042  Validation Accuracy: 0.637400\n",
      "Epoch 12, CIFAR-10 Batch 4:  Loss:     0.5803  Validation Accuracy: 0.657000\n",
      "Epoch 12, CIFAR-10 Batch 5:  Loss:     0.6871  Validation Accuracy: 0.655400\n",
      "Epoch 13, CIFAR-10 Batch 1:  Loss:     0.6862  Validation Accuracy: 0.658000\n",
      "Epoch 13, CIFAR-10 Batch 2:  Loss:     0.6626  Validation Accuracy: 0.649400\n",
      "Epoch 13, CIFAR-10 Batch 3:  Loss:     0.5829  Validation Accuracy: 0.650800\n",
      "Epoch 13, CIFAR-10 Batch 4:  Loss:     0.5485  Validation Accuracy: 0.664000\n",
      "Epoch 13, CIFAR-10 Batch 5:  Loss:     0.6069  Validation Accuracy: 0.656600\n",
      "Epoch 14, CIFAR-10 Batch 1:  Loss:     0.6859  Validation Accuracy: 0.658400\n",
      "Epoch 14, CIFAR-10 Batch 2:  Loss:     0.6306  Validation Accuracy: 0.652000\n",
      "Epoch 14, CIFAR-10 Batch 3:  Loss:     0.5526  Validation Accuracy: 0.672600\n",
      "Epoch 14, CIFAR-10 Batch 4:  Loss:     0.5245  Validation Accuracy: 0.661800\n",
      "Epoch 14, CIFAR-10 Batch 5:  Loss:     0.5588  Validation Accuracy: 0.662800\n",
      "Epoch 15, CIFAR-10 Batch 1:  Loss:     0.6794  Validation Accuracy: 0.651400\n",
      "Epoch 15, CIFAR-10 Batch 2:  Loss:     0.5668  Validation Accuracy: 0.660800\n",
      "Epoch 15, CIFAR-10 Batch 3:  Loss:     0.5152  Validation Accuracy: 0.667400\n",
      "Epoch 15, CIFAR-10 Batch 4:  Loss:     0.4706  Validation Accuracy: 0.672200\n",
      "Epoch 15, CIFAR-10 Batch 5:  Loss:     0.5059  Validation Accuracy: 0.673600\n",
      "Epoch 16, CIFAR-10 Batch 1:  Loss:     0.5938  Validation Accuracy: 0.656800\n",
      "Epoch 16, CIFAR-10 Batch 2:  Loss:     0.5582  Validation Accuracy: 0.654800\n",
      "Epoch 16, CIFAR-10 Batch 3:  Loss:     0.5393  Validation Accuracy: 0.649000\n",
      "Epoch 16, CIFAR-10 Batch 4:  Loss:     0.4465  Validation Accuracy: 0.671800\n",
      "Epoch 16, CIFAR-10 Batch 5:  Loss:     0.4489  Validation Accuracy: 0.685800\n",
      "Epoch 17, CIFAR-10 Batch 1:  Loss:     0.5651  Validation Accuracy: 0.662200\n",
      "Epoch 17, CIFAR-10 Batch 2:  Loss:     0.4932  Validation Accuracy: 0.672000\n",
      "Epoch 17, CIFAR-10 Batch 3:  Loss:     0.5282  Validation Accuracy: 0.659400\n",
      "Epoch 17, CIFAR-10 Batch 4:  Loss:     0.4233  Validation Accuracy: 0.678600\n",
      "Epoch 17, CIFAR-10 Batch 5:  Loss:     0.4248  Validation Accuracy: 0.680200\n",
      "Epoch 18, CIFAR-10 Batch 1:  Loss:     0.5435  Validation Accuracy: 0.654600\n",
      "Epoch 18, CIFAR-10 Batch 2:  Loss:     0.4948  Validation Accuracy: 0.670800\n",
      "Epoch 18, CIFAR-10 Batch 3:  Loss:     0.4103  Validation Accuracy: 0.685800\n",
      "Epoch 18, CIFAR-10 Batch 4:  Loss:     0.4104  Validation Accuracy: 0.669400\n",
      "Epoch 18, CIFAR-10 Batch 5:  Loss:     0.3970  Validation Accuracy: 0.674200\n",
      "Epoch 19, CIFAR-10 Batch 1:  Loss:     0.4768  Validation Accuracy: 0.687400\n",
      "Epoch 19, CIFAR-10 Batch 2:  Loss:     0.4591  Validation Accuracy: 0.680200\n",
      "Epoch 19, CIFAR-10 Batch 3:  Loss:     0.4146  Validation Accuracy: 0.688800\n",
      "Epoch 19, CIFAR-10 Batch 4:  Loss:     0.3445  Validation Accuracy: 0.682800\n",
      "Epoch 19, CIFAR-10 Batch 5:  Loss:     0.3601  Validation Accuracy: 0.686600\n",
      "Epoch 20, CIFAR-10 Batch 1:  Loss:     0.4148  Validation Accuracy: 0.693400\n",
      "Epoch 20, CIFAR-10 Batch 2:  Loss:     0.3856  Validation Accuracy: 0.679000\n",
      "Epoch 20, CIFAR-10 Batch 3:  Loss:     0.3633  Validation Accuracy: 0.690600\n",
      "Epoch 20, CIFAR-10 Batch 4:  Loss:     0.3194  Validation Accuracy: 0.691400\n",
      "Epoch 20, CIFAR-10 Batch 5:  Loss:     0.3203  Validation Accuracy: 0.689200\n",
      "Epoch 21, CIFAR-10 Batch 1:  Loss:     0.4055  Validation Accuracy: 0.681800\n",
      "Epoch 21, CIFAR-10 Batch 2:  Loss:     0.3664  Validation Accuracy: 0.686800\n",
      "Epoch 21, CIFAR-10 Batch 3:  Loss:     0.3307  Validation Accuracy: 0.687000\n",
      "Epoch 21, CIFAR-10 Batch 4:  Loss:     0.2860  Validation Accuracy: 0.688000\n",
      "Epoch 21, CIFAR-10 Batch 5:  Loss:     0.2651  Validation Accuracy: 0.697800\n",
      "Epoch 22, CIFAR-10 Batch 1:  Loss:     0.3568  Validation Accuracy: 0.694000\n",
      "Epoch 22, CIFAR-10 Batch 2:  Loss:     0.3232  Validation Accuracy: 0.688800\n",
      "Epoch 22, CIFAR-10 Batch 3:  Loss:     0.2829  Validation Accuracy: 0.692400\n",
      "Epoch 22, CIFAR-10 Batch 4:  Loss:     0.2653  Validation Accuracy: 0.682800\n",
      "Epoch 22, CIFAR-10 Batch 5:  Loss:     0.2410  Validation Accuracy: 0.692600\n",
      "Epoch 23, CIFAR-10 Batch 1:  Loss:     0.3445  Validation Accuracy: 0.686400\n",
      "Epoch 23, CIFAR-10 Batch 2:  Loss:     0.3240  Validation Accuracy: 0.690000\n",
      "Epoch 23, CIFAR-10 Batch 3:  Loss:     0.2481  Validation Accuracy: 0.691800\n",
      "Epoch 23, CIFAR-10 Batch 4:  Loss:     0.2912  Validation Accuracy: 0.681400\n",
      "Epoch 23, CIFAR-10 Batch 5:  Loss:     0.2423  Validation Accuracy: 0.695400\n",
      "Epoch 24, CIFAR-10 Batch 1:  Loss:     0.3097  Validation Accuracy: 0.694400\n",
      "Epoch 24, CIFAR-10 Batch 2:  Loss:     0.3072  Validation Accuracy: 0.678600\n",
      "Epoch 24, CIFAR-10 Batch 3:  Loss:     0.2463  Validation Accuracy: 0.694400\n",
      "Epoch 24, CIFAR-10 Batch 4:  Loss:     0.2576  Validation Accuracy: 0.684000\n",
      "Epoch 24, CIFAR-10 Batch 5:  Loss:     0.2370  Validation Accuracy: 0.702600\n",
      "Epoch 25, CIFAR-10 Batch 1:  Loss:     0.3159  Validation Accuracy: 0.688600\n",
      "Epoch 25, CIFAR-10 Batch 2:  Loss:     0.2448  Validation Accuracy: 0.680200\n",
      "Epoch 25, CIFAR-10 Batch 3:  Loss:     0.2188  Validation Accuracy: 0.696200\n",
      "Epoch 25, CIFAR-10 Batch 4:  Loss:     0.2632  Validation Accuracy: 0.683200\n",
      "Epoch 25, CIFAR-10 Batch 5:  Loss:     0.2087  Validation Accuracy: 0.698200\n",
      "Epoch 26, CIFAR-10 Batch 1:  Loss:     0.3122  Validation Accuracy: 0.681800\n",
      "Epoch 26, CIFAR-10 Batch 2:  Loss:     0.2591  Validation Accuracy: 0.682600\n",
      "Epoch 26, CIFAR-10 Batch 3:  Loss:     0.2091  Validation Accuracy: 0.691400\n",
      "Epoch 26, CIFAR-10 Batch 4:  Loss:     0.2136  Validation Accuracy: 0.691600\n",
      "Epoch 26, CIFAR-10 Batch 5:  Loss:     0.1722  Validation Accuracy: 0.699600\n",
      "Epoch 27, CIFAR-10 Batch 1:  Loss:     0.2783  Validation Accuracy: 0.677000\n",
      "Epoch 27, CIFAR-10 Batch 2:  Loss:     0.2356  Validation Accuracy: 0.691200\n",
      "Epoch 27, CIFAR-10 Batch 3:  Loss:     0.2128  Validation Accuracy: 0.684000\n",
      "Epoch 27, CIFAR-10 Batch 4:  Loss:     0.2128  Validation Accuracy: 0.696200\n",
      "Epoch 27, CIFAR-10 Batch 5:  Loss:     0.2070  Validation Accuracy: 0.684800\n",
      "Epoch 28, CIFAR-10 Batch 1:  Loss:     0.2614  Validation Accuracy: 0.689200\n",
      "Epoch 28, CIFAR-10 Batch 2:  Loss:     0.2027  Validation Accuracy: 0.688800\n",
      "Epoch 28, CIFAR-10 Batch 3:  Loss:     0.2202  Validation Accuracy: 0.685400\n",
      "Epoch 28, CIFAR-10 Batch 4:  Loss:     0.2263  Validation Accuracy: 0.686400\n",
      "Epoch 28, CIFAR-10 Batch 5:  Loss:     0.1501  Validation Accuracy: 0.696600\n",
      "Epoch 29, CIFAR-10 Batch 1:  Loss:     0.2164  Validation Accuracy: 0.701400\n",
      "Epoch 29, CIFAR-10 Batch 2:  Loss:     0.2550  Validation Accuracy: 0.678600\n",
      "Epoch 29, CIFAR-10 Batch 3:  Loss:     0.1985  Validation Accuracy: 0.684400\n",
      "Epoch 29, CIFAR-10 Batch 4:  Loss:     0.2049  Validation Accuracy: 0.679200\n",
      "Epoch 29, CIFAR-10 Batch 5:  Loss:     0.1385  Validation Accuracy: 0.698800\n",
      "Epoch 30, CIFAR-10 Batch 1:  Loss:     0.1925  Validation Accuracy: 0.703400\n",
      "Epoch 30, CIFAR-10 Batch 2:  Loss:     0.1823  Validation Accuracy: 0.691200\n",
      "Epoch 30, CIFAR-10 Batch 3:  Loss:     0.1463  Validation Accuracy: 0.694400\n",
      "Epoch 30, CIFAR-10 Batch 4:  Loss:     0.1963  Validation Accuracy: 0.687000\n",
      "Epoch 30, CIFAR-10 Batch 5:  Loss:     0.1230  Validation Accuracy: 0.702000\n"
     ]
    }
   ],
   "source": [
    "\"\"\"\n",
    "DON'T MODIFY ANYTHING IN THIS CELL\n",
    "\"\"\"\n",
    "save_model_path = './image_classification'\n",
    "\n",
    "print('Training...')\n",
    "with tf.Session() as sess:\n",
    "    # Initializing the variables\n",
    "    sess.run(tf.global_variables_initializer())\n",
    "    \n",
    "    # Training cycle\n",
    "    for epoch in range(epochs):\n",
    "        # Loop over all batches\n",
    "        n_batches = 5\n",
    "        for batch_i in range(1, n_batches + 1):\n",
    "            for batch_features, batch_labels in helper.load_preprocess_training_batch(batch_i, batch_size):\n",
    "                train_neural_network(sess, optimizer, keep_probability, batch_features, batch_labels)\n",
    "            print('Epoch {:>2}, CIFAR-10 Batch {}:  '.format(epoch + 1, batch_i), end='')\n",
    "            print_stats(sess, batch_features, batch_labels, cost, accuracy)\n",
    "            \n",
    "    # Save Model\n",
    "    saver = tf.train.Saver()\n",
    "    save_path = saver.save(sess, save_model_path)"
   ]
  },
  {
   "cell_type": "markdown",
   "metadata": {},
   "source": [
    "# Checkpoint\n",
    "The model has been saved to disk.\n",
    "## Test Model\n",
    "Test your model against the test dataset.  This will be your final accuracy. You should have an accuracy greater than 50%. If you don't, keep tweaking the model architecture and parameters."
   ]
  },
  {
   "cell_type": "code",
   "execution_count": 110,
   "metadata": {
    "collapsed": false
   },
   "outputs": [
    {
     "name": "stdout",
     "output_type": "stream",
     "text": [
      "Testing Accuracy: 0.6876378685235978\n",
      "\n"
     ]
    },
    {
     "data": {
      "image/png": "[encoded data removed]",
      "text/plain": [
       "<matplotlib.figure.Figure at 0x7f65e00be6a0>"
      ]
     },
     "metadata": {
      "image/png": {
       "height": 319,
       "width": 355
      }
     },
     "output_type": "display_data"
    }
   ],
   "source": [
    "\"\"\"\n",
    "DON'T MODIFY ANYTHING IN THIS CELL\n",
    "\"\"\"\n",
    "%matplotlib inline\n",
    "%config InlineBackend.figure_format = 'retina'\n",
    "\n",
    "import tensorflow as tf\n",
    "import pickle\n",
    "import helper\n",
    "import random\n",
    "\n",
    "# Set batch size if not already set\n",
    "try:\n",
    "    if batch_size:\n",
    "        pass\n",
    "except NameError:\n",
    "    batch_size = 64\n",
    "\n",
    "save_model_path = './image_classification'\n",
    "n_samples = 4\n",
    "top_n_predictions = 3\n",
    "\n",
    "def test_model():\n",
    "    \"\"\"\n",
    "    Test the saved model against the test dataset\n",
    "    \"\"\"\n",
    "\n",
    "    test_features, test_labels = pickle.load(open('preprocess_test.p', mode='rb'))\n",
    "    loaded_graph = tf.Graph()\n",
    "\n",
    "    with tf.Session(graph=loaded_graph) as sess:\n",
    "        # Load model\n",
    "        loader = tf.train.import_meta_graph(save_model_path + '.meta')\n",
    "        loader.restore(sess, save_model_path)\n",
    "\n",
    "        # Get Tensors from loaded model\n",
    "        loaded_x = loaded_graph.get_tensor_by_name('x:0')\n",
    "        loaded_y = loaded_graph.get_tensor_by_name('y:0')\n",
    "        loaded_keep_prob = loaded_graph.get_tensor_by_name('keep_prob:0')\n",
    "        loaded_logits = loaded_graph.get_tensor_by_name('logits:0')\n",
    "        loaded_acc = loaded_graph.get_tensor_by_name('accuracy:0')\n",
    "        \n",
    "        # Get accuracy in batches for memory limitations\n",
    "        test_batch_acc_total = 0\n",
    "        test_batch_count = 0\n",
    "        \n",
    "        for test_feature_batch, test_label_batch in helper.batch_features_labels(test_features, test_labels, batch_size):\n",
    "            test_batch_acc_total += sess.run(\n",
    "                loaded_acc,\n",
    "                feed_dict={loaded_x: test_feature_batch, loaded_y: test_label_batch, loaded_keep_prob: 1.0})\n",
    "            test_batch_count += 1\n",
    "\n",
    "        print('Testing Accuracy: {}\\n'.format(test_batch_acc_total/test_batch_count))\n",
    "\n",
    "        # Print Random Samples\n",
    "        random_test_features, random_test_labels = tuple(zip(*random.sample(list(zip(test_features, test_labels)), n_samples)))\n",
    "        random_test_predictions = sess.run(\n",
    "            tf.nn.top_k(tf.nn.softmax(loaded_logits), top_n_predictions),\n",
    "            feed_dict={loaded_x: random_test_features, loaded_y: random_test_labels, loaded_keep_prob: 1.0})\n",
    "        helper.display_image_predictions(random_test_features, random_test_labels, random_test_predictions)\n",
    "\n",
    "\n",
    "test_model()"
   ]
  },
  {
   "cell_type": "markdown",
   "metadata": {},
   "source": [
    "## Why 50-80% Accuracy?\n",
    "You might be wondering why you can't get an accuracy any higher. First things first, 50% isn't bad for a simple CNN.  Pure guessing would get you 10% accuracy. However, you might notice people are getting scores [well above 80%](http://rodrigob.github.io/are_we_there_yet/build/classification_datasets_results.html#43494641522d3130).  That's because we haven't taught you all there is to know about neural networks. We still need to cover a few more techniques.\n",
    "## Submitting This Project\n",
    "When submitting this project, make sure to run all the cells before saving the notebook.  Save the notebook file as \"dlnd_image_classification.ipynb\" and save it as a HTML file under \"File\" -> \"Download as\".  Include the \"helper.py\" and \"problem_unittests.py\" files in your submission."
   ]
  }
 ],
 "metadata": {
  "kernelspec": {
   "display_name": "Python 3",
   "language": "python",
   "name": "python3"
  },
  "language_info": {
   "codemirror_mode": {
    "name": "ipython",
    "version": 3
   },
   "file_extension": ".py",
   "mimetype": "text/x-python",
   "name": "python",
   "nbconvert_exporter": "python",
   "pygments_lexer": "ipython3",
   "version": "3.6.0"
  }
 },
 "nbformat": 4,
 "nbformat_minor": 0
}
